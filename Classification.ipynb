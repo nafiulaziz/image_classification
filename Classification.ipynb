{
  "cells": [
    {
      "cell_type": "markdown",
      "metadata": {
        "id": "view-in-github",
        "colab_type": "text"
      },
      "source": [
        "<a href=\"https://colab.research.google.com/github/nafiulaziz/image_classification/blob/main/Classification.ipynb\" target=\"_parent\"><img src=\"https://colab.research.google.com/assets/colab-badge.svg\" alt=\"Open In Colab\"/></a>"
      ]
    },
    {
      "cell_type": "code",
      "execution_count": null,
      "metadata": {
        "id": "7XcuL30CEMx7"
      },
      "outputs": [],
      "source": [
        "import keras\n",
        "import tensorflow as ts\n",
        "import numpy as np\n",
        "import pandas as pd\n",
        "from keras import Sequential\n",
        "from keras.layers import Dense,Conv2D,MaxPooling2D,Flatten,BatchNormalization,Dropout"
      ]
    },
    {
      "cell_type": "code",
      "execution_count": null,
      "metadata": {
        "colab": {
          "base_uri": "https://localhost:8080/"
        },
        "id": "w6teRDlHGhlL",
        "outputId": "a054275c-504b-4340-ea73-87ce7d15322d"
      },
      "outputs": [
        {
          "name": "stdout",
          "output_type": "stream",
          "text": [
            "Mounted at /content/drive\n"
          ]
        }
      ],
      "source": [
        "from google.colab import drive\n",
        "\n",
        "drive.mount('/content/drive')"
      ]
    },
    {
      "cell_type": "code",
      "execution_count": null,
      "metadata": {
        "colab": {
          "base_uri": "https://localhost:8080/"
        },
        "id": "FNAXSPsuIe_M",
        "outputId": "e9d8d41a-ad05-42f0-923f-3238d90c06e0"
      },
      "outputs": [
        {
          "name": "stdout",
          "output_type": "stream",
          "text": [
            "Found 272 images belonging to 2 classes.\n",
            "Found 140 images belonging to 2 classes.\n"
          ]
        }
      ],
      "source": [
        "from tensorflow.keras.preprocessing.image import ImageDataGenerator\n",
        "\n",
        "train_dir = '/content/drive/MyDrive/Archives/archive/train'\n",
        "test_dir = '/content/drive/MyDrive/Archives/archive/test'\n",
        "\n",
        "train_datagen = ImageDataGenerator(rescale=1./255)\n",
        "test_datagen = ImageDataGenerator(rescale=1./255)\n",
        "\n",
        "batch_size = 1\n",
        "\n",
        "train_generator = train_datagen.flow_from_directory(\n",
        "    train_dir,\n",
        "    target_size=(720, 1080),\n",
        "    batch_size = batch_size,\n",
        "    class_mode='binary'\n",
        ")\n",
        "\n",
        "test_generator = test_datagen.flow_from_directory(\n",
        "    test_dir,\n",
        "    target_size=(720, 1080),\n",
        "    batch_size = batch_size,\n",
        "    class_mode='binary'\n",
        ")"
      ]
    },
    {
      "cell_type": "code",
      "execution_count": null,
      "metadata": {
        "colab": {
          "background_save": true,
          "base_uri": "https://localhost:8080/"
        },
        "id": "dkcwnGHwQe1W",
        "outputId": "5510e14a-c3f4-4b33-e054-b4b24a55c7c7"
      },
      "outputs": [
        {
          "name": "stdout",
          "output_type": "stream",
          "text": [
            "Epoch 1/10\n",
            "272/272 [==============================] - 1379s 5s/step - loss: 2.1389 - accuracy: 0.5147\n",
            "Epoch 2/10\n",
            "272/272 [==============================] - 1388s 5s/step - loss: 0.9762 - accuracy: 0.6140\n",
            "Epoch 3/10\n",
            "272/272 [==============================] - 1395s 5s/step - loss: 1.0983 - accuracy: 0.6765\n",
            "Epoch 4/10\n",
            "272/272 [==============================] - 1392s 5s/step - loss: 0.9709 - accuracy: 0.6691\n",
            "Epoch 5/10\n",
            "272/272 [==============================] - 1388s 5s/step - loss: 0.5262 - accuracy: 0.8272\n",
            "Epoch 6/10\n",
            "272/272 [==============================] - 1384s 5s/step - loss: 0.1845 - accuracy: 0.9375\n",
            "Epoch 7/10\n",
            "272/272 [==============================] - 1399s 5s/step - loss: 0.0883 - accuracy: 0.9853\n",
            "Epoch 8/10\n",
            "272/272 [==============================] - 1388s 5s/step - loss: 0.0168 - accuracy: 0.9963\n",
            "Epoch 9/10\n",
            "272/272 [==============================] - 1367s 5s/step - loss: 0.0056 - accuracy: 1.0000\n",
            "Epoch 10/10\n",
            "272/272 [==============================] - 1396s 5s/step - loss: 2.5513e-04 - accuracy: 1.0000\n",
            "140/140 [==============================] - 95s 675ms/step - loss: 9.5809 - accuracy: 0.5286\n",
            "Test Accuracy: 0.5285714268684387\n"
          ]
        }
      ],
      "source": [
        "model = Sequential([\n",
        "    Conv2D(32, (3,3), activation='relu' , input_shape=(720, 1080, 3)),\n",
        "    MaxPooling2D((2, 2)),\n",
        "    Conv2D(64, (3, 3), activation='relu'),\n",
        "    MaxPooling2D((2, 2)),\n",
        "    Conv2D(128, (3, 3), activation='relu'),\n",
        "    MaxPooling2D((2, 2)),\n",
        "    Flatten(),\n",
        "    Dense(128, activation='relu'),\n",
        "    Dense(1, activation='sigmoid'),\n",
        "])\n",
        "\n",
        "model.compile(optimizer='Adam',loss='binary_crossentropy', metrics=['accuracy'])\n",
        "\n",
        "history = model.fit(train_generator,epochs=10)\n",
        "\n",
        "loss, accuracy = model.evaluate(test_generator)\n",
        "\n",
        "print(\"Test Accuracy:\", accuracy)"
      ]
    }
  ],
  "metadata": {
    "colab": {
      "provenance": [],
      "authorship_tag": "ABX9TyMds4INGgVoC3F+XSQtDnT6",
      "include_colab_link": true
    },
    "kernelspec": {
      "display_name": "Python 3",
      "name": "python3"
    },
    "language_info": {
      "name": "python"
    }
  },
  "nbformat": 4,
  "nbformat_minor": 0
}